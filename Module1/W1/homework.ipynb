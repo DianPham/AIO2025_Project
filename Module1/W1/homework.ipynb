{
 "cells": [
  {
   "cell_type": "markdown",
   "id": "b2ed4919",
   "metadata": {},
   "source": [
    "# 1. Calculate F1 Score"
   ]
  },
  {
   "cell_type": "code",
   "execution_count": null,
   "id": "5bf1b797",
   "metadata": {},
   "outputs": [
    {
     "name": "stdout",
     "output_type": "stream",
     "text": [
      "Precision:  0.4\n",
      "Recall:  0.3333333333333333\n",
      "F1 score:  0.3636363636363636\n",
      "0.33\n"
     ]
    }
   ],
   "source": [
    "def evaluate_f1_score(tp, fp, fn):\n",
    "    if not isinstance(tp, int):\n",
    "        print(\"TP must be int\")\n",
    "        return\n",
    "    elif not isinstance(fp, int):\n",
    "        print(\"FP must be int\")\n",
    "        return\n",
    "    elif not isinstance(fn, int):\n",
    "        print(\"FN must be int\")\n",
    "        return\n",
    "    \n",
    "    precision = tp/ (tp + fp)\n",
    "    recall = tp/ (tp + fn)\n",
    "    f1_score = 2*(precision*recall/(precision+recall))\n",
    "    \n",
    "    return precision, recall, f1_score\n",
    "\n",
    "tp = 2\n",
    "fp = 3\n",
    "fn = 4\n",
    "\n",
    "result = evaluate_f1_score(tp,fp, fn)\n",
    "\n",
    "if isinstance(result, tuple):\n",
    "    precision, recall, f1_score = result\n",
    "    print(\"Precision: \",precision)\n",
    "    print(\"Recall: \",recall)\n",
    "    print(\"F1 score: \",f1_score)\n",
    "\n"
   ]
  },
  {
   "cell_type": "markdown",
   "id": "353ac0d1",
   "metadata": {},
   "source": [
    "# 2.Calculate Activation Function"
   ]
  },
  {
   "cell_type": "code",
   "execution_count": 3,
   "id": "08adf2bb",
   "metadata": {},
   "outputs": [],
   "source": [
    "import math"
   ]
  },
  {
   "cell_type": "code",
   "execution_count": 36,
   "id": "687a4179",
   "metadata": {},
   "outputs": [
    {
     "name": "stdout",
     "output_type": "stream",
     "text": [
      "True\n",
      "False\n",
      "0.88\n"
     ]
    }
   ],
   "source": [
    "class ActivationFunction():\n",
    "    \"\"\"\n",
    "    A class to compute common activation functions: sigmoid, relu, and elu.\n",
    "    \"\"\"\n",
    "\n",
    "    def _sigmoid(self, x):\n",
    "        \"\"\"\n",
    "        Compute the sigmoid activation function.\n",
    "        \"\"\"\n",
    "        return 1 / (1 + math.exp(-x))\n",
    "\n",
    "    def _relu(self, x):\n",
    "        \"\"\"\n",
    "        Compute the ReLU activation function.\n",
    "        \"\"\"\n",
    "        return x if x > 0 else 0\n",
    "\n",
    "    def _elu(self, x, alpha=0.01):\n",
    "        \"\"\"\n",
    "        Compute the ELU activation function.\n",
    "        \"\"\"\n",
    "        return x if x > 0 else alpha * (math.exp(x) - 1)\n",
    "\n",
    "    def _is_number(self, n):\n",
    "        \"\"\"\n",
    "        Check if the input can be converted to a float.\n",
    "        \"\"\"\n",
    "        try:\n",
    "            float(n)\n",
    "        except ValueError:\n",
    "            return False\n",
    "        return True\n",
    "\n",
    "    def calculate(self, x, activation_function='sigmoid'):\n",
    "        \"\"\"\n",
    "        Calculate the activation function value for input x.\n",
    "\n",
    "        Parameters:\n",
    "        x: input value (should be convertible to float)\n",
    "        activation_function: 'sigmoid', 'relu', or 'elu'\n",
    "\n",
    "        Returns:\n",
    "        The result of the activation function, or None if input is invalid.\n",
    "        \"\"\"\n",
    "        if not self._is_number(x):\n",
    "            print(\"X must be a number\")\n",
    "            return\n",
    "\n",
    "        x = float(x)\n",
    "\n",
    "        if activation_function.lower() == 'sigmoid':\n",
    "            return self._sigmoid(x)\n",
    "        elif activation_function.lower() == 'relu':\n",
    "            return self._relu(x)\n",
    "        elif activation_function.lower() == 'elu':\n",
    "            return self._elu(x)\n",
    "        else:\n",
    "            print(f\"{activation_function} is not supported\")\n",
    "\n",
    "# Example usage:\n",
    "activator = ActivationFunction()\n",
    "# result = activator.calculate(x=x, activation_function=activation_function)\n",
    "# if result is not None:\n",
    "#     print(f\"{activation_function}: f({x}) = {result}\")\n",
    "\n",
    "assert activator._is_number(3) == 1.0\n",
    "assert activator._is_number(\"-2a\") == 0.0\n",
    "print(activator._is_number(1))\n",
    "print(activator._is_number(\"n\"))\n",
    "\n",
    "assert round(activator.calculate(3, 'sigmoid'), 2)==0.95\n",
    "print(round(activator.calculate(2, 'sigmoid'), 2))\n"
   ]
  },
  {
   "cell_type": "markdown",
   "id": "daecb84b",
   "metadata": {},
   "source": [
    "# 3. Calculate Loss Functions"
   ]
  },
  {
   "cell_type": "code",
   "execution_count": 11,
   "id": "f7ef003d",
   "metadata": {},
   "outputs": [],
   "source": [
    "import random\n",
    "import math\n",
    "from typing import List"
   ]
  },
  {
   "cell_type": "code",
   "execution_count": null,
   "id": "8c493c5e",
   "metadata": {},
   "outputs": [],
   "source": [
    "class LossFunction:\n",
    "    \"\"\"\n",
    "    A utility class for calculating different loss functions commonly used \n",
    "    in regression tasks: MAE, MSE, and RMSE.\n",
    "\n",
    "    Methods\n",
    "    -------\n",
    "    cal(num_samples: int, loss_name: str) -> float:\n",
    "        Generates random true and predicted values, then calculates the specified loss.\n",
    "    \n",
    "    _mae_loss(y_true: List[float], y_pred: List[float]) -> float:\n",
    "        Computes Mean Absolute Error (MAE).\n",
    "    \n",
    "    _mse_loss(y_true: List[float], y_pred: List[float]) -> float:\n",
    "        Computes Mean Squared Error (MSE).\n",
    "    \n",
    "    _rmse_loss(y_true: List[float], y_pred: List[float]) -> float:\n",
    "        Computes Root Mean Squared Error (RMSE).\n",
    "    \"\"\"\n",
    "\n",
    "    def cal(self, num_samples: int, loss_name: str) -> float:\n",
    "        \"\"\"\n",
    "        Generate random true values and predictions, then compute the chosen loss function.\n",
    "\n",
    "        Parameters\n",
    "        ----------\n",
    "        num_samples : int\n",
    "            Number of samples to generate for y_true and y_pred.\n",
    "        loss_name : str\n",
    "            Type of loss to calculate. Supported values: 'mae', 'mse', 'rmse'.\n",
    "\n",
    "        Returns\n",
    "        -------\n",
    "        float\n",
    "            The calculated loss value.\n",
    "        \"\"\"\n",
    "\n",
    "        # Generate random ground truth values (between 0 and 10)\n",
    "        y_true = [random.uniform(0, 10) for _ in range(num_samples)]\n",
    "        # Generate random predicted values (between 0 and 10)\n",
    "        y_pred = [random.uniform(0, 10) for _ in range(num_samples)]\n",
    "\n",
    "        # Select and compute the requested loss function\n",
    "        if loss_name == 'mae':\n",
    "            return self._mae_loss(y_true=y_true, y_pred=y_pred)\n",
    "        elif loss_name == 'mse':\n",
    "            return self._mse_loss(y_true=y_true, y_pred=y_pred)\n",
    "        elif loss_name == 'rmse':\n",
    "            return self._rmse_loss(y_true=y_true, y_pred=y_pred)\n",
    "        else:\n",
    "            # Invalid loss name returns None\n",
    "            return None\n",
    "\n",
    "    def _mae_loss(self, y_true: List[float], y_pred: List[float]) -> float:\n",
    "        \"\"\"\n",
    "        Mean Absolute Error (MAE).\n",
    "\n",
    "        Formula: MAE = (1/n) * Σ |y_pred - y_true|\n",
    "\n",
    "        Returns\n",
    "        -------\n",
    "        float\n",
    "            The average absolute difference between predictions and true values.\n",
    "        \"\"\"\n",
    "        return sum(abs(pred - true) for pred, true in zip(y_pred, y_true))\\\n",
    "            / len(y_true)\n",
    "\n",
    "    def _mse_loss(self, y_true: List[float], y_pred: List[float]) -> float:\n",
    "        \"\"\"\n",
    "        Mean Squared Error (MSE).\n",
    "\n",
    "        Formula: MSE = (1/n) * Σ (y_pred - y_true)^2\n",
    "\n",
    "        Returns\n",
    "        -------\n",
    "        float\n",
    "            The average squared difference between predictions and true values.\n",
    "        \"\"\"\n",
    "        return sum(pow(pred - true, 2) for pred, true in zip(y_pred, y_true))\\\n",
    "            / len(y_true)\n",
    "\n",
    "    def _rmse_loss(self, y_true: List[float], y_pred: List[float]) -> float:\n",
    "        \"\"\"\n",
    "        Root Mean Squared Error (RMSE).\n",
    "\n",
    "        Formula: RMSE = sqrt(MSE)\n",
    "\n",
    "        Returns\n",
    "        -------\n",
    "        float\n",
    "            The square root of the mean squared error.\n",
    "        \"\"\"\n",
    "        return math.sqrt(self._mse_loss(y_true=y_true, y_pred=y_pred))\n"
   ]
  },
  {
   "cell_type": "code",
   "execution_count": 35,
   "id": "96ac92d6",
   "metadata": {},
   "outputs": [
    {
     "name": "stdout",
     "output_type": "stream",
     "text": [
      "Loss name: mae - Result: 5.340318773040221\n"
     ]
    }
   ],
   "source": [
    "num_samples = 10\n",
    "loss_name = 'mae'\n",
    "\n",
    "\n",
    "loss_calculator = LossFunction()\n",
    "result = loss_calculator.cal(num_samples = num_samples, loss_name = loss_name)\n",
    "if result is not None:\n",
    "    print(f\"Loss name: {loss_name} - Result: {result}\")\n",
    "    \n"
   ]
  },
  {
   "cell_type": "markdown",
   "id": "adce2e54",
   "metadata": {},
   "source": [
    "# 4. Trigonometric and Hyperbolic Calculation"
   ]
  },
  {
   "cell_type": "code",
   "execution_count": 24,
   "id": "222f6517",
   "metadata": {},
   "outputs": [],
   "source": [
    "import math"
   ]
  },
  {
   "cell_type": "code",
   "execution_count": 28,
   "id": "886fc158",
   "metadata": {},
   "outputs": [],
   "source": [
    "class TrigHyperbolicEstimator:\n",
    "    def sin(self, x: float, n: int) -> float:\n",
    "        \"\"\"Approximate sin(x) using Taylor series expansion with n terms.\"\"\"\n",
    "        return sum(\n",
    "            pow(-1, k) * (pow(x, 2*k + 1) / self._factorial(2*k + 1))\n",
    "            for k in range(n)\n",
    "        )\n",
    "\n",
    "    def cos(self, x: float, n: int) -> float:\n",
    "        \"\"\"Approximate cos(x) using Taylor series expansion with n terms.\"\"\"\n",
    "        return sum(\n",
    "            pow(-1, k) * (pow(x, 2*k) / self._factorial(2*k))\n",
    "            for k in range(n)\n",
    "        )\n",
    "\n",
    "    def sinh(self, x: float, n: int) -> float:\n",
    "        \"\"\"Approximate sinh(x) using Taylor series expansion with n terms.\"\"\"\n",
    "        return sum(\n",
    "            pow(x, 2*k + 1) / self._factorial(2*k + 1)\n",
    "            for k in range(n)\n",
    "        )\n",
    "\n",
    "    def cosh(self, x: float, n: int) -> float:\n",
    "        \"\"\"Approximate cosh(x) using Taylor series expansion with n terms.\"\"\"\n",
    "        return sum(\n",
    "            pow(x, 2*k) / self._factorial(2*k)\n",
    "            for k in range(n)\n",
    "        )\n",
    "\n",
    "    def _factorial(self, fac_base: int) -> int:\n",
    "        \"\"\"Compute factorial using math.prod (efficient).\"\"\"\n",
    "        return math.prod(range(1, fac_base + 1))"
   ]
  },
  {
   "cell_type": "code",
   "execution_count": 29,
   "id": "3549f665",
   "metadata": {},
   "outputs": [
    {
     "name": "stdout",
     "output_type": "stream",
     "text": [
      "Approximated result of Sin(3.14):  0.0015926523931607442\n",
      "Approximated result of Cos(3.14):  -0.9999987352210833\n",
      "Approximated result of Sinh(3.14):  11.530292029865986\n",
      "Approximated result of Cosh(3.14):  11.573574824666185\n",
      "\n",
      "--- Comparison with math module ---\n",
      "math.sin(3.14)  = 0.0015926529164868282\n",
      "math.cos(3.14)  = -0.9999987317275395\n",
      "math.sinh(3.14) = 11.53029203041011\n",
      "math.cosh(3.14) = 11.573574828312076\n"
     ]
    }
   ],
   "source": [
    "x = 3.14\n",
    "n = 10\n",
    "\n",
    "approximator = TrigHyperbolicEstimator()\n",
    "\n",
    "# Approximate sin(x) with n terms\n",
    "print(f\"Approximated result of Sin({x}): \", approximator.sin(x = x, n = n))\n",
    "\n",
    "# Approximate cos(x) with n terms\n",
    "print(f\"Approximated result of Cos({x}): \", approximator.cos(x = x, n = n))\n",
    "\n",
    "# Approximate sinh(x) with n terms\n",
    "print(f\"Approximated result of Sinh({x}): \", approximator.sinh(x = x, n = n))\n",
    "\n",
    "# Approximate cosh(x) with n terms\n",
    "print(f\"Approximated result of Cosh({x}): \", approximator.cosh(x = x, n = n))\n",
    "\n",
    "# For comparison, also print Python's math library results\n",
    "print(\"\\n--- Comparison with math module ---\")\n",
    "print(f\"math.sin({x})  = {math.sin(x)}\")\n",
    "print(f\"math.cos({x})  = {math.cos(x)}\")\n",
    "print(f\"math.sinh({x}) = {math.sinh(x)}\")\n",
    "print(f\"math.cosh({x}) = {math.cosh(x)}\")\n"
   ]
  }
 ],
 "metadata": {
  "kernelspec": {
   "display_name": "base",
   "language": "python",
   "name": "python3"
  },
  "language_info": {
   "codemirror_mode": {
    "name": "ipython",
    "version": 3
   },
   "file_extension": ".py",
   "mimetype": "text/x-python",
   "name": "python",
   "nbconvert_exporter": "python",
   "pygments_lexer": "ipython3",
   "version": "3.12.7"
  }
 },
 "nbformat": 4,
 "nbformat_minor": 5
}
