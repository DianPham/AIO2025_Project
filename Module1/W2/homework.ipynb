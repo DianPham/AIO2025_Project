{
 "cells": [
  {
   "cell_type": "markdown",
   "id": "c2bf9ab8",
   "metadata": {},
   "source": [
    "# 1. Getting Max Over Kernel"
   ]
  },
  {
   "cell_type": "code",
   "execution_count": null,
   "id": "27fb854c",
   "metadata": {},
   "outputs": [],
   "source": [
    "def sliding_kernel(num_list: list, kernel_size: int = 3):\n",
    "    return [max(num_list[i:i+kernel_size])\\\n",
    "        for i in range(len(num_list) - kernel_size + 1)]"
   ]
  },
  {
   "cell_type": "code",
   "execution_count": 6,
   "id": "e265baf5",
   "metadata": {},
   "outputs": [
    {
     "name": "stdout",
     "output_type": "stream",
     "text": [
      "[5, 5, 5, 5, 10, 12, 33, 33]\n"
     ]
    }
   ],
   "source": [
    "num_list = [3, 4, 5, 1, -44 , 5 ,10, 12 ,33, 1]\n",
    "k = 3\n",
    "\n",
    "print(sliding_kernel(num_list, k))"
   ]
  },
  {
   "cell_type": "markdown",
   "id": "44c6ee73",
   "metadata": {},
   "source": [
    "# 2. Character Counting\n"
   ]
  },
  {
   "cell_type": "code",
   "execution_count": 9,
   "id": "141fdd29",
   "metadata": {},
   "outputs": [],
   "source": [
    "def count_character(string: str):\n",
    "    return {letter: string.count(letter) for letter in set(string)}"
   ]
  },
  {
   "cell_type": "code",
   "execution_count": 10,
   "id": "de2c5704",
   "metadata": {},
   "outputs": [
    {
     "name": "stdout",
     "output_type": "stream",
     "text": [
      "{'a': 1, 's': 2, 'p': 2, 'n': 1, 'e': 1, 'H': 1, 'i': 1}\n"
     ]
    }
   ],
   "source": [
    "string = \"Happiness\"\n",
    "print(count_character(string))"
   ]
  },
  {
   "cell_type": "markdown",
   "id": "db6f08c9",
   "metadata": {},
   "source": [
    "# 3. Word Counting\n"
   ]
  },
  {
   "cell_type": "code",
   "execution_count": 11,
   "id": "ee342395",
   "metadata": {},
   "outputs": [],
   "source": [
    "def count_word(file_path: str):\n",
    "    with open(file_path, 'r') as file:\n",
    "        contents = file.read()\n",
    "    words = contents.split()\n",
    "    return {letter: words.count(letter) for letter in set(words)}"
   ]
  },
  {
   "cell_type": "code",
   "execution_count": 15,
   "id": "d789434b",
   "metadata": {},
   "outputs": [
    {
     "name": "stdout",
     "output_type": "stream",
     "text": [
      "{'A': 1, 'He': 1, 'Just': 1, 'One': 2, 'Success': 1, 'The': 1, 'Try': 1, 'We': 1, 'You': 1, 'a': 6, 'again': 1, 'and': 1, 'are': 1, 'at': 1, 'be': 1, 'become': 2, 'bricks': 1, 'busy': 1, 'but': 1, 'came': 1, 'can': 3, 'cannot': 1, 'change': 1, 'comes': 2, 'conquers': 1, 'courage': 1, 'day': 1, 'different': 1, 'employed': 1, 'enough': 1, 'everything': 1, 'firm': 1, 'for': 3, 'foundation': 1, 'from': 1, 'get': 2, 'have': 1, 'help': 1, 'him': 1, 'himself': 1, 'his': 2, 'if': 1, 'in': 4, 'is': 3, 'it': 2, 'just': 1, 'kind': 1, 'lay': 1, 'life': 2, 'looking': 1, 'majority': 1, 'makes': 1, 'man': 6, 'mightiest': 1, 'mistakes': 1, 'morning': 1, 'not': 1, 'of': 4, 'one': 2, 'opportunity': 1, 'other': 1, 'others': 1, 'people': 1, 'positive': 1, 'problems': 1, 'profit': 1, 'rather': 1, 'ready': 1, 'secret': 1, 'small': 1, 'solve': 1, 'success': 2, 'successful': 2, 'the': 4, 'them': 1, 'they': 1, 'thinking': 1, 'those': 1, 'thought': 1, 'thrown': 1, 'to': 3, 'too': 1, 'try': 1, 'up': 1, 'usually': 1, 'value': 1, 'want': 2, 'warrior': 1, 'way': 1, 'we': 2, 'what': 1, 'when': 2, 'who': 3, 'whole': 1, 'will': 2, 'with': 4, 'you': 2, 'your': 1}\n"
     ]
    }
   ],
   "source": [
    "file_path = \"P1_data.txt\"\n",
    "word_dict = dict(sorted(count_word(file_path).items()))\n",
    "print(word_dict)"
   ]
  },
  {
   "cell_type": "code",
   "execution_count": null,
   "id": "cc2c0058",
   "metadata": {},
   "outputs": [
    {
     "name": "stdout",
     "output_type": "stream",
     "text": [
      "[1, 2]\n"
     ]
    }
   ],
   "source": []
  }
 ],
 "metadata": {
  "kernelspec": {
   "display_name": "base",
   "language": "python",
   "name": "python3"
  },
  "language_info": {
   "codemirror_mode": {
    "name": "ipython",
    "version": 3
   },
   "file_extension": ".py",
   "mimetype": "text/x-python",
   "name": "python",
   "nbconvert_exporter": "python",
   "pygments_lexer": "ipython3",
   "version": "3.12.7"
  }
 },
 "nbformat": 4,
 "nbformat_minor": 5
}
