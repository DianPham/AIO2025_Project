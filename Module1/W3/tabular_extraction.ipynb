{
 "cells": [
  {
   "cell_type": "code",
   "execution_count": 1,
   "id": "f5994789",
   "metadata": {},
   "outputs": [
    {
     "name": "stdout",
     "output_type": "stream",
     "text": [
      "1\n",
      "    Tên  Lớp  Điểm Trung Bình\n",
      "0   Anh  10A              8.5\n",
      "1  Bình  10B              7.2\n",
      "2  Châu  10C              9.1\n"
     ]
    }
   ],
   "source": [
    "import tabula\n",
    "\n",
    "pdf_path = \"https://github.com/NguyenDinhTiem/tabula-py-examples/raw/main/data/tables.pdf\"\n",
    "\n",
    "dfs = tabula.read_pdf(pdf_path, pages=1, lattice=True)\n",
    "print(len(dfs))\n",
    "print(dfs[0])\n"
   ]
  },
  {
   "cell_type": "code",
   "execution_count": 3,
   "id": "3aa8cc24",
   "metadata": {},
   "outputs": [
    {
     "name": "stdout",
     "output_type": "stream",
     "text": [
      "   Tên  Tuổi Thành phố\n",
      "0   An    22    Hà Nội\n",
      "1  Cúc    25    TP HCM\n",
      "2  Hoa    20   Đà Nẵng\n",
      "3   Nụ    23   Cần Thơ\n"
     ]
    }
   ],
   "source": [
    "dfs = tabula.read_pdf(pdf_path, pages=2, stream=True)\n",
    "print(dfs[0])"
   ]
  },
  {
   "cell_type": "code",
   "execution_count": 12,
   "id": "e114883c",
   "metadata": {},
   "outputs": [
    {
     "name": "stdout",
     "output_type": "stream",
     "text": [
      "=======ORIGINAL DATA=======\n",
      "  Môn học    Ngày thi Giờ bắt đầu Phòng thi\n",
      "0     NaN  20/12/2024       08:00      101A\n",
      "1    Toán         NaN         NaN       NaN\n",
      "2     NaN  21/12/2024       09:00      102B\n",
      "3     NaN         NaN       08:00      101A\n",
      "4      Lý  22/12/2024         NaN       NaN\n",
      "5     NaN         NaN       10:00      102B\n",
      "6     NaN         NaN       08:00      101A\n",
      "7     Hóa  23/12/2024         NaN       NaN\n",
      "8     NaN         NaN       10:00      102B\n",
      "===========================\n",
      "=======FILLED DATA=======\n",
      "  Môn học    Ngày thi Giờ bắt đầu Phòng thi\n",
      "0     NaN  20/12/2024       08:00      101A\n",
      "1    Toán  20/12/2024       08:00      101A\n",
      "2    Toán  21/12/2024       09:00      102B\n",
      "3    Toán  21/12/2024       08:00      101A\n",
      "4      Lý  22/12/2024       08:00      101A\n",
      "5      Lý  22/12/2024       10:00      102B\n",
      "6      Lý  22/12/2024       08:00      101A\n",
      "7     Hóa  23/12/2024       08:00      101A\n",
      "8     Hóa  23/12/2024       10:00      102B\n",
      "=========================\n",
      "=======CLEANED DATA=======\n",
      "  Môn học    Ngày thi Giờ bắt đầu Phòng thi\n",
      "1    Toán  20/12/2024       08:00      101A\n",
      "2    Toán  21/12/2024       09:00      102B\n",
      "4      Lý  22/12/2024       08:00      101A\n",
      "5      Lý  22/12/2024       10:00      102B\n",
      "7     Hóa  23/12/2024       08:00      101A\n",
      "8     Hóa  23/12/2024       10:00      102B\n",
      "=========================\n"
     ]
    }
   ],
   "source": [
    "dfs = tabula.read_pdf(pdf_path, pages=3, stream=True)\n",
    "print(\"=======ORIGINAL DATA=======\")\n",
    "print(dfs[0])\n",
    "print(\"===========================\")\n",
    "\n",
    "df = dfs[0]\n",
    "df['Môn học'] = df['Môn học'].ffill()\n",
    "df['Ngày thi'] = df['Ngày thi'].ffill()\n",
    "df['Giờ bắt đầu'] = df['Giờ bắt đầu'].ffill()\n",
    "df['Phòng thi'] = df['Phòng thi'].ffill()\n",
    "print(\"=======FILLED DATA=======\")\n",
    "print(df)\n",
    "print(\"=========================\")\n",
    "\n",
    "df_cleaned = df.drop([0, 3, 6])\n",
    "print(\"=======CLEANED DATA=======\")\n",
    "print(df_cleaned)\n",
    "print(\"=========================\")\n"
   ]
  }
 ],
 "metadata": {
  "kernelspec": {
   "display_name": "base",
   "language": "python",
   "name": "python3"
  },
  "language_info": {
   "codemirror_mode": {
    "name": "ipython",
    "version": 3
   },
   "file_extension": ".py",
   "mimetype": "text/x-python",
   "name": "python",
   "nbconvert_exporter": "python",
   "pygments_lexer": "ipython3",
   "version": "3.12.3"
  }
 },
 "nbformat": 4,
 "nbformat_minor": 5
}
