{
 "cells": [
  {
   "cell_type": "markdown",
   "id": "abf123ab",
   "metadata": {},
   "source": [
    "# Practice Solving Probability Problem"
   ]
  },
  {
   "cell_type": "code",
   "execution_count": 1,
   "id": "8335b767",
   "metadata": {},
   "outputs": [
    {
     "name": "stdout",
     "output_type": "stream",
     "text": [
      "[['Sunny' 'Hot' 'High' 'Weak' 'no']\n",
      " ['Sunny' 'Hot' 'High' 'Strong' 'no']\n",
      " ['Overcast' 'Hot' 'High' 'Weak' 'yes']\n",
      " ['Rain' 'Mild' 'High' 'Weak' 'yes']\n",
      " ['Rain' 'Cool' 'Normal' 'Weak' 'yes']\n",
      " ['Rain' 'Cool' 'Normal' 'Strong' 'no']\n",
      " ['Overcast' 'Cool' 'Normal' 'Strong' 'yes']\n",
      " ['Overcast' 'Mild' 'High' 'Weak' 'no']\n",
      " ['Sunny' 'Cool' 'Normal' 'Weak' 'yes']\n",
      " ['Rain' 'Mild' 'Normal' 'Weak' 'yes']]\n"
     ]
    }
   ],
   "source": [
    "import numpy as np\n",
    "\n",
    "def create_training_data():\n",
    "    data = [[\"Sunny\", \"Hot\", \"High\", \"Weak\", \"no\"],\n",
    "            [\"Sunny\", \"Hot\", \"High\", \"Strong\", \"no\"],\n",
    "            [\"Overcast\", \"Hot\", \"High\", \"Weak\", \"yes\"],\n",
    "            [\"Rain\", \"Mild\", \"High\", \"Weak\", \"yes\"],\n",
    "            [\"Rain\", \"Cool\", \"Normal\", \"Weak\", \"yes\"],\n",
    "            [\"Rain\", \"Cool\", \"Normal\", \"Strong\", \"no\"],\n",
    "            [\"Overcast\", \"Cool\", \"Normal\", \"Strong\", \"yes\"],\n",
    "            [\"Overcast\", \"Mild\", \"High\", \"Weak\", \"no\"],\n",
    "            [\"Sunny\", \"Cool\", \"Normal\", \"Weak\", \"yes\"],\n",
    "            [\"Rain\", \"Mild\", \"Normal\", \"Weak\", \"yes\"]]\n",
    "    \n",
    "    return np.array(data)\n",
    "\n",
    "train_data = create_training_data()\n",
    "print(train_data)\n"
   ]
  },
  {
   "cell_type": "code",
   "execution_count": 39,
   "id": "115e0127",
   "metadata": {},
   "outputs": [],
   "source": [
    "def compute_prior_probabilities(train_data: np.ndarray):\n",
    "    class_labels = train_data[:,-1]\n",
    "    class_names, counts = np.unique(class_labels, return_counts = True)\n",
    "    \n",
    "    total_sample = len(class_labels)\n",
    "    \n",
    "    return np.array([count/ total_sample \\\n",
    "        for name, count in zip(class_names, counts)])"
   ]
  },
  {
   "cell_type": "code",
   "execution_count": 40,
   "id": "3f8c3b92",
   "metadata": {},
   "outputs": [
    {
     "name": "stdout",
     "output_type": "stream",
     "text": [
      "P(‘Play Tennis’ = No) 0.4\n",
      "P(‘Play Tennis’ = Yes) 0.6\n"
     ]
    }
   ],
   "source": [
    "prior_probablity = compute_prior_probabilities(train_data)\n",
    "print(\"P(‘Play Tennis’ = No)\", prior_probablity[0])\n",
    "print(\"P(‘Play Tennis’ = Yes)\", prior_probablity[1])"
   ]
  },
  {
   "cell_type": "code",
   "execution_count": 42,
   "id": "d4c0b88e",
   "metadata": {},
   "outputs": [],
   "source": [
    "import numpy as np\n",
    "\n",
    "def compute_conditional_probabilities(train_data):\n",
    "    \"\"\"\n",
    "    Compute conditional probabilities P(feature=value | class)\n",
    "    for each feature and class.\n",
    "\n",
    "    Parameters:\n",
    "        train_data (numpy.ndarray): 2D array where the last column contains class labels.\n",
    "\n",
    "    Returns:\n",
    "        conditional_probs (list of np.ndarray): \n",
    "            For each feature, a matrix of shape (n_classes, n_feature_values)\n",
    "        feature_vals (list of np.ndarray):\n",
    "            The unique values for each feature.\n",
    "    \"\"\"\n",
    "    class_labels = train_data[:, -1]\n",
    "    class_names = np.unique(class_labels)\n",
    "    n_features = train_data.shape[1] - 1\n",
    "    \n",
    "    feature_vals = []\n",
    "    conditional_probs = []\n",
    "\n",
    "    for feature_idx in range(n_features):\n",
    "        # Unique values of this feature\n",
    "        unique_vals = np.unique(train_data[:, feature_idx])\n",
    "        feature_vals.append(unique_vals)\n",
    "\n",
    "        # Matrix: rows = classes, cols = feature values\n",
    "        feature_cond_probs = np.zeros((len(class_names), len(unique_vals)))\n",
    "\n",
    "        for cls_idx, class_name in enumerate(class_names):\n",
    "            # Select samples of the current class\n",
    "            class_samples = train_data[class_labels == class_name]\n",
    "            total_class_samples = len(class_samples)\n",
    "\n",
    "            for ft_idx, val in enumerate(unique_vals):\n",
    "                # Count how many class samples have this feature value\n",
    "                match_count = np.sum(class_samples[:, feature_idx] == val)\n",
    "                # Conditional probability\n",
    "                feature_cond_probs[cls_idx, ft_idx] = match_count / total_class_samples\n",
    "\n",
    "        conditional_probs.append(feature_cond_probs)\n",
    "\n",
    "    return conditional_probs, feature_vals\n"
   ]
  },
  {
   "cell_type": "code",
   "execution_count": 43,
   "id": "6063f2da",
   "metadata": {},
   "outputs": [
    {
     "name": "stdout",
     "output_type": "stream",
     "text": [
      "x1 =  ['Overcast' 'Rain' 'Sunny']\n",
      "x2 =  ['Cool' 'Hot' 'Mild']\n",
      "x3 =  ['High' 'Normal']\n",
      "x4 =  ['Strong' 'Weak']\n"
     ]
    }
   ],
   "source": [
    "_, feature_values = compute_conditional_probabilities(train_data)\n",
    "print(\"x1 = \",feature_values[0])\n",
    "print(\"x2 = \",feature_values[1])\n",
    "print(\"x3 = \",feature_values[2])\n",
    "print(\"x4 = \",feature_values[3])"
   ]
  },
  {
   "cell_type": "code",
   "execution_count": 44,
   "id": "7988e010",
   "metadata": {},
   "outputs": [],
   "source": [
    "def train_naive_bayes(train_data):\n",
    "    prior_probabilities = compute_prior_probabilities(train_data)\n",
    "    \n",
    "    conditional_probabilities, feature_names = compute_conditional_probabilities(train_data)\n",
    "    \n",
    "    return prior_probabilities, conditional_probabilities, feature_names"
   ]
  },
  {
   "cell_type": "code",
   "execution_count": 45,
   "id": "988c3bcb",
   "metadata": {},
   "outputs": [],
   "source": [
    "prior_probs, conditional_probs, feature_names = train_naive_bayes(train_data)"
   ]
  },
  {
   "cell_type": "code",
   "execution_count": null,
   "id": "d2459e4e",
   "metadata": {},
   "outputs": [],
   "source": [
    "def predict_tennis(\n",
    "    X, prior_probabilities, conditional_probabilities, feature_names\n",
    "):\n",
    "    class_labels = train_data[:, -1]\n",
    "    class_names = np.unique(class_labels)"
   ]
  }
 ],
 "metadata": {
  "kernelspec": {
   "display_name": "base",
   "language": "python",
   "name": "python3"
  },
  "language_info": {
   "codemirror_mode": {
    "name": "ipython",
    "version": 3
   },
   "file_extension": ".py",
   "mimetype": "text/x-python",
   "name": "python",
   "nbconvert_exporter": "python",
   "pygments_lexer": "ipython3",
   "version": "3.12.3"
  }
 },
 "nbformat": 4,
 "nbformat_minor": 5
}
